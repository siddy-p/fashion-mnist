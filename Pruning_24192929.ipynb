{
  "cells": [
    {
      "cell_type": "markdown",
      "id": "6b41e8e9",
      "metadata": {
        "id": "6b41e8e9"
      },
      "source": [
        "# Your Details"
      ]
    },
    {
      "cell_type": "markdown",
      "id": "dc7cf9aa",
      "metadata": {
        "id": "dc7cf9aa"
      },
      "source": [
        "Your Name: Siddartha Sandeep Peddada"
      ]
    },
    {
      "cell_type": "markdown",
      "id": "3fe6e255",
      "metadata": {
        "id": "3fe6e255"
      },
      "source": [
        "Your ID Number: 24192929"
      ]
    },
    {
      "cell_type": "markdown",
      "id": "5857739d",
      "metadata": {
        "id": "5857739d"
      },
      "source": [
        "# Part 1: Pruning a TensorFlow/Keras Model exercise\n",
        "\n",
        "\n",
        "* Understand Pruning in TensorFlow\n",
        "* Prune a basic CNN using the TensorFlow Model optimisation framework\n",
        "* Analyse the model perfromance\n",
        "* Results analysis\n",
        "\n",
        "\n",
        "    [1] Import data dependencies\n",
        "    [2] Load the Fashion MNIST dataset\n",
        "    [3] Prepocess the data\n",
        "    [4] Create and train the CNN model\n",
        "    [5] Evaluate the model performance\n",
        "    [6] Prune the network and analyse your results\n",
        "    \n",
        "  "
      ]
    },
    {
      "cell_type": "markdown",
      "id": "20352a33",
      "metadata": {
        "id": "20352a33"
      },
      "source": [
        "### Installing the TensorFlow Model Optimisation toolkit\n",
        "\n",
        "You must first install it using pip (No need to do this as already installed, hence commented out)."
      ]
    },
    {
      "cell_type": "code",
      "execution_count": null,
      "id": "7ff0d3ea",
      "metadata": {
        "id": "7ff0d3ea"
      },
      "outputs": [],
      "source": [
        "# pip install --user --upgrade tensorflow-model-optimization"
      ]
    },
    {
      "cell_type": "markdown",
      "id": "f899d190",
      "metadata": {
        "id": "f899d190"
      },
      "source": [
        "## 1. Import the data dependencies"
      ]
    },
    {
      "cell_type": "code",
      "execution_count": null,
      "id": "118e9137-3c07-4467-8b55-0380b2a99475",
      "metadata": {
        "id": "118e9137-3c07-4467-8b55-0380b2a99475"
      },
      "outputs": [],
      "source": [
        "import matplotlib.pyplot as plt\n",
        "%matplotlib inline"
      ]
    },
    {
      "cell_type": "code",
      "execution_count": null,
      "id": "7c5ab0ee-e749-46d1-b98a-cff040652c4a",
      "metadata": {
        "id": "7c5ab0ee-e749-46d1-b98a-cff040652c4a",
        "outputId": "012447eb-505d-486d-b094-30ed12df3c9e"
      },
      "outputs": [
        {
          "name": "stdout",
          "output_type": "stream",
          "text": [
            "Requirement already satisfied: keras-core in /opt/anaconda3/lib/python3.12/site-packages (0.1.7)\n",
            "Requirement already satisfied: absl-py in /Users/siddy/.local/lib/python3.12/site-packages (from keras-core) (1.4.0)\n",
            "Requirement already satisfied: numpy in /Users/siddy/.local/lib/python3.12/site-packages (from keras-core) (1.26.4)\n",
            "Requirement already satisfied: rich in /opt/anaconda3/lib/python3.12/site-packages (from keras-core) (13.7.1)\n",
            "Requirement already satisfied: namex in /opt/anaconda3/lib/python3.12/site-packages (from keras-core) (0.0.8)\n",
            "Requirement already satisfied: h5py in /opt/anaconda3/lib/python3.12/site-packages (from keras-core) (3.11.0)\n",
            "Requirement already satisfied: dm-tree in /Users/siddy/.local/lib/python3.12/site-packages (from keras-core) (0.1.9)\n",
            "Requirement already satisfied: attrs>=18.2.0 in /opt/anaconda3/lib/python3.12/site-packages (from dm-tree->keras-core) (23.1.0)\n",
            "Requirement already satisfied: wrapt>=1.11.2 in /opt/anaconda3/lib/python3.12/site-packages (from dm-tree->keras-core) (1.14.1)\n",
            "Requirement already satisfied: markdown-it-py>=2.2.0 in /opt/anaconda3/lib/python3.12/site-packages (from rich->keras-core) (2.2.0)\n",
            "Requirement already satisfied: pygments<3.0.0,>=2.13.0 in /opt/anaconda3/lib/python3.12/site-packages (from rich->keras-core) (2.15.1)\n",
            "Requirement already satisfied: mdurl~=0.1 in /opt/anaconda3/lib/python3.12/site-packages (from markdown-it-py>=2.2.0->rich->keras-core) (0.1.0)\n"
          ]
        }
      ],
      "source": [
        "!pip install keras-core"
      ]
    },
    {
      "cell_type": "code",
      "execution_count": null,
      "id": "e206da44",
      "metadata": {
        "id": "e206da44"
      },
      "outputs": [],
      "source": [
        "import tensorflow as tf\n",
        "import tf_keras as keras\n",
        "from keras.datasets import fashion_mnist\n",
        "from keras.utils import to_categorical\n",
        "from keras.models import Sequential\n",
        "from keras.layers import Dense, Dropout, Flatten\n",
        "from keras.layers import Conv2D, MaxPooling2D\n",
        "import tensorflow_model_optimization as tfmot\n",
        "\n",
        "from sklearn.model_selection import train_test_split\n",
        "from sklearn.metrics import classification_report\n",
        "\n",
        "import numpy as np\n",
        "import pandas as pd\n",
        "import tempfile\n",
        "\n",
        "import matplotlib.pyplot as plt\n",
        "%matplotlib inline"
      ]
    },
    {
      "cell_type": "markdown",
      "id": "312973ed",
      "metadata": {
        "id": "312973ed"
      },
      "source": [
        "## 2. Load the dataset\n",
        "We will use the Fashion-MNIST dataset and view a random set of images from the dataset."
      ]
    },
    {
      "cell_type": "code",
      "execution_count": null,
      "id": "a371d624",
      "metadata": {
        "id": "a371d624"
      },
      "outputs": [],
      "source": [
        "# Load Fashion MNIST dataset\n",
        "(X_train, y_train), (X_test, y_test) = fashion_mnist.load_data()"
      ]
    },
    {
      "cell_type": "markdown",
      "id": "de8a797f",
      "metadata": {
        "id": "de8a797f"
      },
      "source": [
        "Create a dictionary of all classes in the target - Note there are 10 classes in this dataset."
      ]
    },
    {
      "cell_type": "code",
      "execution_count": null,
      "id": "d5f14c47",
      "metadata": {
        "id": "d5f14c47",
        "outputId": "5260af04-44de-4947-8d92-f5583ee4cedf"
      },
      "outputs": [
        {
          "data": {
            "text/plain": [
              "{0: 'T-shirt',\n",
              " 1: 'Trouser',\n",
              " 2: 'Pullover',\n",
              " 3: 'Dress',\n",
              " 4: 'Code',\n",
              " 5: 'Sandal',\n",
              " 6: 'Shirt',\n",
              " 7: 'Sneaker',\n",
              " 8: 'Bag',\n",
              " 9: 'Ankle Boot'}"
            ]
          },
          "execution_count": 15,
          "metadata": {},
          "output_type": "execute_result"
        }
      ],
      "source": [
        "# Map for human readable class names\n",
        "class_names = ['T-shirt/top', 'Trouser', 'Pullover', 'Dress', 'Coat',\n",
        "               'Sandal', 'Shirt', 'Sneaker', 'Bag', 'Ankle boot']\n",
        "class_labels = pd.Series(['T-shirt', 'Trouser', 'Pullover', 'Dress', 'Code', 'Sandal', 'Shirt', 'Sneaker', 'Bag', 'Ankle Boot'])\n",
        "labels_dict = class_labels.to_dict()\n",
        "labels_dict"
      ]
    },
    {
      "cell_type": "markdown",
      "id": "8d98d523",
      "metadata": {
        "id": "8d98d523"
      },
      "source": [
        "Get 9 images at random from the training data, plot and fetch their corresponding labels from the training targets."
      ]
    },
    {
      "cell_type": "code",
      "execution_count": null,
      "id": "eb8965df",
      "metadata": {
        "id": "eb8965df",
        "outputId": "cb2f59c3-0bdd-4dd6-f018-de98234b80e9"
      },
      "outputs": [
        {
          "data": {
            "image/png": "[encoded data removed]",
            "text/plain": [
              "<Figure size 1000x1000 with 1 Axes>"
            ]
          },
          "metadata": {},
          "output_type": "display_data"
        },
        {
          "data": {
            "image/png": "[encoded data removed]",
            "text/plain": [
              "<Figure size 640x480 with 1 Axes>"
            ]
          },
          "metadata": {},
          "output_type": "display_data"
        },
        {
          "data": {
            "image/png": "[encoded data removed]",
            "text/plain": [
              "<Figure size 640x480 with 1 Axes>"
            ]
          },
          "metadata": {},
          "output_type": "display_data"
        },
        {
          "data": {
            "image/png": "[encoded data removed]",
            "text/plain": [
              "<Figure size 640x480 with 1 Axes>"
            ]
          },
          "metadata": {},
          "output_type": "display_data"
        },
        {
          "data": {
            "image/png": "[encoded data removed]",
            "text/plain": [
              "<Figure size 640x480 with 1 Axes>"
            ]
          },
          "metadata": {},
          "output_type": "display_data"
        },
        {
          "data": {
            "image/png": "[encoded data removed]",
            "text/plain": [
              "<Figure size 640x480 with 1 Axes>"
            ]
          },
          "metadata": {},
          "output_type": "display_data"
        },
        {
          "data": {
            "image/png": "[encoded data removed]",
            "text/plain": [
              "<Figure size 640x480 with 1 Axes>"
            ]
          },
          "metadata": {},
          "output_type": "display_data"
        },
        {
          "data": {
            "image/png": "[encoded data removed]",
            "text/plain": [
              "<Figure size 640x480 with 1 Axes>"
            ]
          },
          "metadata": {},
          "output_type": "display_data"
        },
        {
          "data": {
            "image/png": "[encoded data removed]",
            "text/plain": [
              "<Figure size 640x480 with 1 Axes>"
            ]
          },
          "metadata": {},
          "output_type": "display_data"
        }
      ],
      "source": [
        "np.random.seed(11)\n",
        "plt.figure(figsize=(10, 10))\n",
        "for i, rand_num in enumerate(np.random.randint(0, len(X_train), 9)):\n",
        "    ax = plt.subplot(3, 3, i + 1)\n",
        "    plt.imshow(X_train[rand_num]), plt.axis('off')\n",
        "    plt.title(labels_dict[y_train[rand_num]])\n",
        "    plt.axis(\"off\")\n",
        "    plt.show()"
      ]
    },
    {
      "cell_type": "markdown",
      "id": "67185f06",
      "metadata": {
        "id": "67185f06"
      },
      "source": [
        "## 3. Data preprocessing\n",
        "Ensure the image data shape is 28x28x1, and then normalize all values between 0 and 1."
      ]
    },
    {
      "cell_type": "code",
      "execution_count": null,
      "id": "5e318182",
      "metadata": {
        "id": "5e318182"
      },
      "outputs": [],
      "source": [
        "# Model configuration\n",
        "img_width, img_height = 28, 28\n",
        "no_classes = 10\n",
        "\n",
        "# Reshape data for CNN\n",
        "X_train = X_train.reshape(X_train.shape[0], img_width, img_height, 1)\n",
        "X_test = X_test.reshape(X_test.shape[0], img_width, img_height, 1)\n",
        "\n",
        "input_shape = (img_width, img_height, 1)\n",
        "\n",
        "# Parse numbers as floats\n",
        "X_train = X_train.astype('float32')\n",
        "X_test = X_test.astype('float32')\n",
        "\n",
        "# Normalize [0, 255] into [0, 1]\n",
        "X_train = X_train / 255\n",
        "X_test = X_test / 255\n",
        "\n",
        "# Convert target vectors to categorical targets\n",
        "y_train = to_categorical(y_train, no_classes)\n",
        "y_test =  to_categorical(y_test, no_classes)\n",
        "# Note np.argmax(y_test, axis=-1) returns original digit array"
      ]
    },
    {
      "cell_type": "markdown",
      "id": "15c11bb6",
      "metadata": {
        "id": "15c11bb6"
      },
      "source": [
        "Finally, we create a validation dataset using train_test_split()"
      ]
    },
    {
      "cell_type": "code",
      "execution_count": null,
      "id": "9811246e",
      "metadata": {
        "id": "9811246e",
        "outputId": "9aca5abe-1518-44c7-a727-493d039f398b"
      },
      "outputs": [
        {
          "name": "stdout",
          "output_type": "stream",
          "text": [
            "Shape of data used for training, and shape of training targets : \n",
            "  (50000, 28, 28, 1) , (50000, 10)\n",
            "Shape of data used for validation, and shape of validation targets: \n",
            "  (10000, 28, 28, 1) , (10000, 10)\n",
            "Shape of data used for test, and shape of test targets: \n",
            "  (10000, 28, 28, 1) , (10000, 10)\n"
          ]
        }
      ],
      "source": [
        "X_train, X_valid, y_train, y_valid = train_test_split(X_train, y_train, test_size=0.16666)\n",
        "\n",
        "print('Shape of data used for training, and shape of training targets : \\n ', X_train.shape, ',', y_train.shape)\n",
        "print('Shape of data used for validation, and shape of validation targets: \\n ', X_valid.shape, ',', y_valid.shape)\n",
        "print('Shape of data used for test, and shape of test targets: \\n ', X_test.shape, ',', y_test.shape)"
      ]
    },
    {
      "cell_type": "markdown",
      "id": "6ef1638b",
      "metadata": {
        "id": "6ef1638b"
      },
      "source": [
        "## 4. Create and train the model"
      ]
    },
    {
      "cell_type": "code",
      "execution_count": null,
      "id": "21083435",
      "metadata": {
        "id": "21083435",
        "outputId": "03fede77-4784-423e-f6e7-93b8bf1910f1"
      },
      "outputs": [
        {
          "name": "stderr",
          "output_type": "stream",
          "text": [
            "WARNING:absl:At this time, the v2.11+ optimizer `tf.keras.optimizers.Adam` runs slowly on M1/M2 Macs, please use the legacy TF-Keras optimizer instead, located at `tf.keras.optimizers.legacy.Adam`.\n"
          ]
        },
        {
          "name": "stdout",
          "output_type": "stream",
          "text": [
            "Epoch 1/12\n",
            "1563/1563 [==============================] - 22s 10ms/step - loss: 0.4689 - accuracy: 0.8284 - val_loss: 0.3671 - val_accuracy: 0.8656\n",
            "Epoch 2/12\n",
            "1563/1563 [==============================] - 16s 10ms/step - loss: 0.3051 - accuracy: 0.8876 - val_loss: 0.2898 - val_accuracy: 0.8932\n",
            "Epoch 3/12\n",
            "1563/1563 [==============================] - 16s 10ms/step - loss: 0.2564 - accuracy: 0.9046 - val_loss: 0.2705 - val_accuracy: 0.8997\n",
            "Epoch 4/12\n",
            "1563/1563 [==============================] - 15s 10ms/step - loss: 0.2238 - accuracy: 0.9158 - val_loss: 0.2527 - val_accuracy: 0.9072\n",
            "Epoch 5/12\n",
            "1563/1563 [==============================] - 16s 10ms/step - loss: 0.1909 - accuracy: 0.9280 - val_loss: 0.2447 - val_accuracy: 0.9075\n",
            "Epoch 6/12\n",
            "1563/1563 [==============================] - 17s 11ms/step - loss: 0.1659 - accuracy: 0.9382 - val_loss: 0.2543 - val_accuracy: 0.9084\n",
            "Epoch 7/12\n",
            "1563/1563 [==============================] - 16s 10ms/step - loss: 0.1453 - accuracy: 0.9445 - val_loss: 0.2698 - val_accuracy: 0.9088\n",
            "Epoch 8/12\n",
            "1563/1563 [==============================] - 15s 10ms/step - loss: 0.1227 - accuracy: 0.9530 - val_loss: 0.2640 - val_accuracy: 0.9138\n",
            "Epoch 9/12\n",
            "1563/1563 [==============================] - 15s 10ms/step - loss: 0.1089 - accuracy: 0.9592 - val_loss: 0.2936 - val_accuracy: 0.9087\n",
            "Epoch 10/12\n",
            "1563/1563 [==============================] - 16s 10ms/step - loss: 0.0944 - accuracy: 0.9635 - val_loss: 0.3160 - val_accuracy: 0.9125\n",
            "Epoch 11/12\n",
            "1563/1563 [==============================] - 17s 11ms/step - loss: 0.0808 - accuracy: 0.9694 - val_loss: 0.3334 - val_accuracy: 0.9125\n",
            "Epoch 12/12\n",
            "1563/1563 [==============================] - 16s 10ms/step - loss: 0.0740 - accuracy: 0.9713 - val_loss: 0.3735 - val_accuracy: 0.9057\n"
          ]
        }
      ],
      "source": [
        "\n",
        "\n",
        "# Create the model\n",
        "model = keras.Sequential([\n",
        "  keras.layers.InputLayer(input_shape=(28, 28)),                     # Input layer for 28x28 images\n",
        "  keras.layers.Reshape(target_shape=(28, 28, 1)),                    # Reshape to (28, 28, 1) for Conv2D\n",
        "  keras.layers.Conv2D(filters=32, kernel_size=(3, 3), activation='relu'),\n",
        "  keras.layers.MaxPooling2D(pool_size=(2, 2)),\n",
        "  keras.layers.Conv2D(filters=64, kernel_size=(3, 3), activation='relu'),\n",
        "  keras.layers.MaxPooling2D(pool_size=(2, 2)),\n",
        "  keras.layers.Flatten(),\n",
        "  keras.layers.Dense(256, activation='relu'),\n",
        "  keras.layers.Dense(100, activation='relu'),\n",
        "  keras.layers.Dense(no_classes, activation='softmax')              # Final output layer for 10 classes\n",
        "])\n",
        "\n",
        "\n",
        "# Compile the model\n",
        "model.compile(loss=keras.losses.categorical_crossentropy,\n",
        "              optimizer=tf.keras.optimizers.Adam(),\n",
        "              metrics=['accuracy'])\n",
        "\n",
        "batch_size = 32\n",
        "no_epochs = 12\n",
        "\n",
        "# Fit data to model\n",
        "history = model.fit(X_train, y_train,\n",
        "          batch_size=batch_size,\n",
        "          epochs=no_epochs,\n",
        "          verbose=1,\n",
        "          validation_data=(X_valid,y_valid))"
      ]
    },
    {
      "cell_type": "markdown",
      "id": "2dcc9a6c",
      "metadata": {
        "id": "2dcc9a6c"
      },
      "source": [
        "## 5. Evaluate the model performance"
      ]
    },
    {
      "cell_type": "code",
      "execution_count": null,
      "id": "fb55481c",
      "metadata": {
        "id": "fb55481c",
        "outputId": "45755248-71a7-4b20-c088-9eea0e0a7939"
      },
      "outputs": [
        {
          "data": {
            "image/png": "[encoded data removed]",
            "text/plain": [
              "<Figure size 600x500 with 1 Axes>"
            ]
          },
          "metadata": {},
          "output_type": "display_data"
        }
      ],
      "source": [
        "# Plot the performance\n",
        "plt.figure(figsize=(6, 5))\n",
        "plt.plot(history.history['accuracy'], color='r')\n",
        "plt.plot(history.history['val_accuracy'], color='b')\n",
        "plt.title('Model Accuracy', weight='bold', fontsize=16)\n",
        "plt.ylabel('accuracy', weight='bold', fontsize=14)\n",
        "plt.xlabel('epoch', weight='bold', fontsize=14)\n",
        "plt.ylim(0.5, 1)\n",
        "plt.xticks(weight='bold', fontsize=12)\n",
        "plt.yticks(weight='bold', fontsize=12)\n",
        "plt.legend(['train', 'val'], loc='upper left', prop={'size': 14})\n",
        "plt.grid(color = 'y', linewidth='0.5')\n",
        "plt.show()"
      ]
    },
    {
      "cell_type": "code",
      "execution_count": null,
      "id": "16a51264",
      "metadata": {
        "id": "16a51264",
        "outputId": "ddc7d152-2373-4d23-9c38-985bf91f6853"
      },
      "outputs": [
        {
          "name": "stdout",
          "output_type": "stream",
          "text": [
            "313/313 [==============================] - 1s 3ms/step\n",
            "              precision    recall  f1-score   support\n",
            "\n",
            "     T-shirt       0.87      0.81      0.84      1000\n",
            "     Trouser       1.00      0.98      0.99      1000\n",
            "    Pullover       0.83      0.86      0.85      1000\n",
            "       Dress       0.90      0.91      0.91      1000\n",
            "        Code       0.80      0.90      0.85      1000\n",
            "      Sandal       0.98      0.98      0.98      1000\n",
            "       Shirt       0.76      0.68      0.72      1000\n",
            "     Sneaker       0.97      0.94      0.95      1000\n",
            "         Bag       0.95      0.98      0.96      1000\n",
            "  Ankle Boot       0.94      0.97      0.96      1000\n",
            "\n",
            "    accuracy                           0.90     10000\n",
            "   macro avg       0.90      0.90      0.90     10000\n",
            "weighted avg       0.90      0.90      0.90     10000\n",
            "\n"
          ]
        }
      ],
      "source": [
        "# Get Model Predictions for test data\n",
        "predictions = model.predict(X_test)\n",
        "print(classification_report(np.argmax(y_test, axis=-1), np.argmax(predictions, axis=-1),target_names=class_labels))"
      ]
    },
    {
      "cell_type": "markdown",
      "id": "6179ae33",
      "metadata": {
        "id": "6179ae33"
      },
      "source": [
        "### Test the model accuracy"
      ]
    },
    {
      "cell_type": "code",
      "execution_count": null,
      "id": "8b265b63",
      "metadata": {
        "id": "8b265b63",
        "outputId": "7d4a28c8-30dc-4eeb-ea02-dbdbe2367493"
      },
      "outputs": [
        {
          "name": "stdout",
          "output_type": "stream",
          "text": [
            "Test loss: 0.4119356870651245 / Test accuracy: 0.9004999995231628\n"
          ]
        }
      ],
      "source": [
        "# Generate generalization metrics\n",
        "score = model.evaluate(X_test, y_test, verbose=0)\n",
        "print(f'Test loss: {score[0]} / Test accuracy: {score[1]}')"
      ]
    },
    {
      "cell_type": "markdown",
      "id": "194a65ec",
      "metadata": {
        "id": "194a65ec"
      },
      "source": [
        "### Save the model\n",
        "Make sure to store your model to a temporary file, so that you can compare the sizes of the original and the pruned model later:"
      ]
    },
    {
      "cell_type": "code",
      "execution_count": null,
      "id": "fc0a95e0",
      "metadata": {
        "id": "fc0a95e0",
        "outputId": "cf979603-c745-45a6-e977-7a8a6c5dfb66"
      },
      "outputs": [
        {
          "name": "stdout",
          "output_type": "stream",
          "text": [
            "Baseline model saved: /var/folders/d3/gzz38_ss2ylbt0sgg3k_jkym0000gn/T/tmp1vj_u0xu.h5\n"
          ]
        },
        {
          "name": "stderr",
          "output_type": "stream",
          "text": [
            "/var/folders/d3/gzz38_ss2ylbt0sgg3k_jkym0000gn/T/ipykernel_8690/947051632.py:3: UserWarning: You are saving your model as an HDF5 file via `model.save()`. This file format is considered legacy. We recommend using instead the native TF-Keras format, e.g. `model.save('my_model.keras')`.\n",
            "  tf.keras.models.save_model(model, keras_file, include_optimizer=False)\n"
          ]
        }
      ],
      "source": [
        "# Store file\n",
        "_, keras_file = tempfile.mkstemp('.h5')\n",
        "tf.keras.models.save_model(model, keras_file, include_optimizer=False)\n",
        "print(f'Baseline model saved: {keras_file}')"
      ]
    },
    {
      "cell_type": "markdown",
      "id": "26ac90ca",
      "metadata": {
        "id": "26ac90ca"
      },
      "source": [
        "## 6. Pruning exercise\n",
        "\n",
        "\n",
        "### Configure the pruning process\n",
        "\n",
        "- Load functionality for adding pruning wrappers to make sure the model's layers are prunable.\n",
        "- Set the pruning configuration with the following:\n",
        "   1. Load the number of images used in the training set.\n",
        "   2. Compute the *end_step* of the pruning process using batch size, the number of images and the number of epochs.\n",
        "   3. Define the pruning operation using **pruning_params**. Initially set the model to be 50% sparse (50% zeros in weights) increasing to 80%. Begin at 0 and end at *end_step*.\n",
        "   4. Call the **prune_low_magnitude** functionality to generate the prunable model from the initial model and the defined **pruning_params**."
      ]
    },
    {
      "cell_type": "code",
      "execution_count": null,
      "id": "f763ad49",
      "metadata": {
        "id": "f763ad49"
      },
      "outputs": [],
      "source": [
        "# Load functionality for adding pruning wrappers\n",
        "num_images = X_train.shape[0]\n",
        "batch_size = 32  # already defined above\n",
        "pruning_epochs = 5\n",
        "end_step = np.ceil(num_images / batch_size).astype(np.int32) * pruning_epochs\n",
        "\n",
        "\n",
        "pruning_params = {\n",
        "    'pruning_schedule': tfmot.sparsity.keras.PolynomialDecay(\n",
        "        initial_sparsity=0.50,\n",
        "        final_sparsity=0.80,\n",
        "        begin_step=0,\n",
        "        end_step=end_step\n",
        "    )\n",
        "}\n",
        "\n",
        "\n",
        "prune_low_magnitude = tfmot.sparsity.keras.prune_low_magnitude\n",
        "\n",
        "# Apply pruning to the entire model\n",
        "model_for_pruning = prune_low_magnitude(model, **pruning_params)"
      ]
    },
    {
      "cell_type": "markdown",
      "id": "34575854",
      "metadata": {
        "id": "34575854"
      },
      "source": [
        "### Start the pruning process\n",
        "After configuring the pruning process, you need to recompile the model and start the pruning process. Use the **UpdatePruningStep** callback here, because it propagates optimizer activities to the pruning process."
      ]
    },
    {
      "cell_type": "code",
      "execution_count": null,
      "id": "16fbeac4",
      "metadata": {
        "id": "16fbeac4",
        "outputId": "8889ddcd-eb9d-427b-a959-3c3f17cea692"
      },
      "outputs": [
        {
          "name": "stderr",
          "output_type": "stream",
          "text": [
            "WARNING:absl:At this time, the v2.11+ optimizer `tf.keras.optimizers.Adam` runs slowly on M1/M2 Macs, please use the legacy TF-Keras optimizer instead, located at `tf.keras.optimizers.legacy.Adam`.\n"
          ]
        },
        {
          "name": "stdout",
          "output_type": "stream",
          "text": [
            "Epoch 1/5\n",
            "1563/1563 [==============================] - 20s 11ms/step - loss: 0.0919 - accuracy: 0.9652 - val_loss: 0.2796 - val_accuracy: 0.9153\n",
            "Epoch 2/5\n",
            "1563/1563 [==============================] - 16s 10ms/step - loss: 0.0822 - accuracy: 0.9694 - val_loss: 0.2758 - val_accuracy: 0.9166\n",
            "Epoch 3/5\n",
            "1563/1563 [==============================] - 18s 11ms/step - loss: 0.0812 - accuracy: 0.9702 - val_loss: 0.2791 - val_accuracy: 0.9169\n",
            "Epoch 4/5\n",
            "1563/1563 [==============================] - 16s 10ms/step - loss: 0.0709 - accuracy: 0.9731 - val_loss: 0.3041 - val_accuracy: 0.9122\n",
            "Epoch 5/5\n",
            "1563/1563 [==============================] - 16s 10ms/step - loss: 0.0482 - accuracy: 0.9825 - val_loss: 0.3425 - val_accuracy: 0.9154\n"
          ]
        }
      ],
      "source": [
        "# Recompile the model\n",
        "model_for_pruning.compile(loss=tf.keras.losses.categorical_crossentropy,\n",
        "              optimizer=tf.keras.optimizers.Adam(),\n",
        "              metrics=['accuracy'])\n",
        "\n",
        "# Model callbacks\n",
        "callbacks = [\n",
        "  tfmot.sparsity.keras.UpdatePruningStep()\n",
        "]\n",
        "\n",
        "# Fitting data\n",
        "with tf.device('/cpu:0'):  # Use this line if using GPU environment\n",
        "    model_for_pruning.fit(X_train, y_train,\n",
        "                                  batch_size=batch_size,\n",
        "                                  epochs=pruning_epochs,\n",
        "                                  verbose=1,\n",
        "                                  validation_data=(X_valid, y_valid),\n",
        "                                  callbacks=callbacks)\n"
      ]
    },
    {
      "cell_type": "code",
      "execution_count": null,
      "id": "e2cbcc1b-ed7d-40d2-90ce-a47a6e626c1e",
      "metadata": {
        "id": "e2cbcc1b-ed7d-40d2-90ce-a47a6e626c1e",
        "outputId": "07015f09-cd0a-454a-83cb-7dc976e209fa"
      },
      "outputs": [
        {
          "name": "stdout",
          "output_type": "stream",
          "text": [
            "dict_keys(['loss', 'accuracy', 'val_loss', 'val_accuracy'])\n"
          ]
        }
      ],
      "source": [
        "print(history.history.keys())"
      ]
    },
    {
      "cell_type": "markdown",
      "id": "2e4f0659",
      "metadata": {
        "id": "2e4f0659"
      },
      "source": [
        "### Measure the pruning effectiveness\n",
        "\n",
        "- By measuring how much the performance has changed, compared to before pruning;\n",
        "- By measuring how much the model size has changed, compared to before pruning.\n"
      ]
    },
    {
      "cell_type": "code",
      "execution_count": null,
      "id": "83269d37",
      "metadata": {
        "id": "83269d37",
        "outputId": "c646b654-2cb4-4e5b-f2bd-ccb18df16e30"
      },
      "outputs": [
        {
          "name": "stdout",
          "output_type": "stream",
          "text": [
            "Regular CNN - Test loss: 0.4119356870651245 / Test accuracy: 0.9004999995231628\n",
            "Pruned CNN - Test loss: 0.3773850202560425 / Test accuracy: 0.907800018787384\n"
          ]
        }
      ],
      "source": [
        "score_pruned = model_for_pruning.evaluate(X_test, y_test, verbose=0)\n",
        "print(f'Regular CNN - Test loss: {score[0]} / Test accuracy: {score[1]}')\n",
        "print(f'Pruned CNN - Test loss: {score_pruned[0]} / Test accuracy: {score_pruned[1]}')\n"
      ]
    },
    {
      "cell_type": "markdown",
      "id": "bbcffcf1",
      "metadata": {
        "id": "bbcffcf1"
      },
      "source": [
        "### Save/export the pruned model"
      ]
    },
    {
      "cell_type": "code",
      "execution_count": null,
      "id": "f93cc88f",
      "metadata": {
        "id": "f93cc88f",
        "outputId": "6746f0fd-a0f2-4a1e-de05-c97297fcb956"
      },
      "outputs": [
        {
          "name": "stdout",
          "output_type": "stream",
          "text": [
            "WARNING:tensorflow:Compiled the loaded model, but the compiled metrics have yet to be built. `model.compile_metrics` will be empty until you train or evaluate the model.\n"
          ]
        },
        {
          "name": "stderr",
          "output_type": "stream",
          "text": [
            "/var/folders/d3/gzz38_ss2ylbt0sgg3k_jkym0000gn/T/ipykernel_8690/2935974867.py:7: UserWarning: You are saving your model as an HDF5 file via `model.save()`. This file format is considered legacy. We recommend using instead the native TF-Keras format, e.g. `model.save('my_model.keras')`.\n",
            "  tf.keras.models.save_model(model_for_export, pruned_keras_file, include_optimizer=False)\n",
            "WARNING:tensorflow:Compiled the loaded model, but the compiled metrics have yet to be built. `model.compile_metrics` will be empty until you train or evaluate the model.\n"
          ]
        },
        {
          "name": "stdout",
          "output_type": "stream",
          "text": [
            "Saved pruned Keras model to: /var/folders/d3/gzz38_ss2ylbt0sgg3k_jkym0000gn/T/tmp14ohch7o.h5\n"
          ]
        }
      ],
      "source": [
        "# Export the model\n",
        "model_for_export = tfmot.sparsity.keras.strip_pruning(model_for_pruning)\n",
        "\n",
        "_, pruned_keras_file = tempfile.mkstemp('.h5')\n",
        "tf.keras.models.save_model(model_for_export, pruned_keras_file, include_optimizer=False)\n",
        "print('Saved pruned Keras model to:', pruned_keras_file)"
      ]
    },
    {
      "cell_type": "markdown",
      "id": "a8ecc8f8",
      "metadata": {
        "id": "a8ecc8f8"
      },
      "source": [
        "### Compare the model sizes\n",
        "\n",
        "How much smaller is the pruned model size?"
      ]
    },
    {
      "cell_type": "code",
      "execution_count": null,
      "id": "8f0ea5b8",
      "metadata": {
        "id": "8f0ea5b8",
        "outputId": "8780439b-1477-4a51-f794-9a090e739d77"
      },
      "outputs": [
        {
          "name": "stdout",
          "output_type": "stream",
          "text": [
            "Size of gzipped baseline Keras model: 1701044.00 bytes\n",
            "Size of gzipped pruned Keras model: 543012.00 bytes\n"
          ]
        }
      ],
      "source": [
        "def get_gzipped_model_size(file):\n",
        "  # Returns size of gzipped model, in bytes.\n",
        "  import os\n",
        "  import zipfile\n",
        "\n",
        "  _, zipped_file = tempfile.mkstemp('.zip')\n",
        "  with zipfile.ZipFile(zipped_file, 'w', compression=zipfile.ZIP_DEFLATED) as f:\n",
        "    f.write(file)\n",
        "\n",
        "  return os.path.getsize(zipped_file)\n",
        "\n",
        "print(\"Size of gzipped baseline Keras model: %.2f bytes\" % (get_gzipped_model_size(keras_file)))\n",
        "print(\"Size of gzipped pruned Keras model: %.2f bytes\" % (get_gzipped_model_size(pruned_keras_file)))"
      ]
    },
    {
      "cell_type": "markdown",
      "id": "d8aea625",
      "metadata": {
        "id": "d8aea625"
      },
      "source": [
        "## Combining Pruning with Quantization for more optimization\n",
        "It is possible to make the model even smaller by applying **quantization**.\n",
        "Adding quantization first requires you to add a TFLite converter. This converter converts your TensorFlow model into TensorFlow Lite equivalent, which is what quantization will run against. Converting the model into a Lite model allows us to specify a model optimizer - use the DEFAULT or dynamic range quantization for this exercise."
      ]
    },
    {
      "cell_type": "code",
      "execution_count": null,
      "id": "eaa1861f",
      "metadata": {
        "id": "eaa1861f",
        "outputId": "0aa146c6-888a-4662-d521-4ecd207c140b"
      },
      "outputs": [
        {
          "name": "stdout",
          "output_type": "stream",
          "text": [
            "INFO:tensorflow:Assets written to: /var/folders/d3/gzz38_ss2ylbt0sgg3k_jkym0000gn/T/tmp1pjvnhx0/assets\n"
          ]
        },
        {
          "name": "stderr",
          "output_type": "stream",
          "text": [
            "INFO:tensorflow:Assets written to: /var/folders/d3/gzz38_ss2ylbt0sgg3k_jkym0000gn/T/tmp1pjvnhx0/assets\n",
            "WARNING: All log messages before absl::InitializeLog() is called are written to STDERR\n",
            "W0000 00:00:1742770809.814595 8777974 tf_tfl_flatbuffer_helpers.cc:390] Ignored output_format.\n"
          ]
        },
        {
          "name": "stdout",
          "output_type": "stream",
          "text": [
            "TFLite quantized model saved to: /var/folders/d3/gzz38_ss2ylbt0sgg3k_jkym0000gn/T/tmppn3rbsc0.tflite\n"
          ]
        },
        {
          "name": "stderr",
          "output_type": "stream",
          "text": [
            "W0000 00:00:1742770809.815047 8777974 tf_tfl_flatbuffer_helpers.cc:393] Ignored drop_control_dependency.\n",
            "2025-03-23 23:00:09.818825: I tensorflow/cc/saved_model/reader.cc:83] Reading SavedModel from: /var/folders/d3/gzz38_ss2ylbt0sgg3k_jkym0000gn/T/tmp1pjvnhx0\n",
            "2025-03-23 23:00:09.819775: I tensorflow/cc/saved_model/reader.cc:51] Reading meta graph with tags { serve }\n",
            "2025-03-23 23:00:09.819783: I tensorflow/cc/saved_model/reader.cc:146] Reading SavedModel debug info (if present) from: /var/folders/d3/gzz38_ss2ylbt0sgg3k_jkym0000gn/T/tmp1pjvnhx0\n",
            "2025-03-23 23:00:09.828052: I tensorflow/compiler/mlir/mlir_graph_optimization_pass.cc:388] MLIR V1 optimization pass is not enabled\n",
            "2025-03-23 23:00:09.828949: I tensorflow/cc/saved_model/loader.cc:234] Restoring SavedModel bundle.\n",
            "2025-03-23 23:00:09.885801: I tensorflow/cc/saved_model/loader.cc:218] Running initialization op on SavedModel bundle at path: /var/folders/d3/gzz38_ss2ylbt0sgg3k_jkym0000gn/T/tmp1pjvnhx0\n",
            "2025-03-23 23:00:09.890735: I tensorflow/cc/saved_model/loader.cc:317] SavedModel load for tags { serve }; Status: success: OK. Took 71931 microseconds.\n",
            "2025-03-23 23:00:09.923545: I tensorflow/compiler/mlir/tensorflow/utils/dump_mlir_util.cc:268] disabling MLIR crash reproducer, set env var `MLIR_CRASH_REPRODUCER_DIRECTORY` to enable.\n"
          ]
        }
      ],
      "source": [
        "# Convert to TFLite with dynamic range quantization\n",
        "converter = tf.lite.TFLiteConverter.from_keras_model(model_for_export)\n",
        "converter.optimizations = [tf.lite.Optimize.DEFAULT]  # Enables quantization\n",
        "\n",
        "tflite_model = converter.convert()\n",
        "\n",
        "# Save TFLite model to file\n",
        "tflite_file = tempfile.mkstemp('.tflite')[1]\n",
        "with open(tflite_file, 'wb') as f:\n",
        "    f.write(tflite_model)\n",
        "\n",
        "print('TFLite quantized model saved to:', tflite_file)\n"
      ]
    },
    {
      "cell_type": "code",
      "execution_count": null,
      "id": "d11e420c-1543-4421-ba3e-9bea70fc2acf",
      "metadata": {
        "id": "d11e420c-1543-4421-ba3e-9bea70fc2acf",
        "outputId": "e09c0d19-abc0-45d9-b74f-80caa14f25ff"
      },
      "outputs": [
        {
          "name": "stdout",
          "output_type": "stream",
          "text": [
            "Size of gzipped baseline Keras model: 1701044.00 bytes\n",
            "Size of gzipped pruned Keras model: 543012.00 bytes\n",
            "Size of gzipped quantized TFLite model: 141728.00 bytes\n"
          ]
        }
      ],
      "source": [
        "# Function to get gzipped model size\n",
        "def get_gzipped_file_size(file):\n",
        "    import gzip\n",
        "    import shutil\n",
        "    import os\n",
        "\n",
        "    zipped_file = tempfile.mkstemp('.gz')[1]\n",
        "    with open(file, 'rb') as f_in, gzip.open(zipped_file, 'wb') as f_out:\n",
        "        shutil.copyfileobj(f_in, f_out)\n",
        "    return os.path.getsize(zipped_file)\n",
        "\n",
        "print(\"Size of gzipped baseline Keras model: %.2f bytes\" % get_gzipped_model_size(keras_file))\n",
        "print(\"Size of gzipped pruned Keras model: %.2f bytes\" % get_gzipped_model_size(pruned_keras_file))\n",
        "print(\"Size of gzipped quantized TFLite model: %.2f bytes\" % get_gzipped_file_size(tflite_file))\n"
      ]
    },
    {
      "cell_type": "code",
      "execution_count": null,
      "id": "4377a724-b0a0-4615-a65a-3af69c56afc2",
      "metadata": {
        "id": "4377a724-b0a0-4615-a65a-3af69c56afc2",
        "outputId": "d21373b0-4cbe-4561-867d-fa387b3493c3"
      },
      "outputs": [
        {
          "name": "stdout",
          "output_type": "stream",
          "text": [
            "TFLite Quantized Model Accuracy on 10000 samples: 90.78%\n"
          ]
        }
      ],
      "source": [
        "import tensorflow as tf\n",
        "import numpy as np\n",
        "\n",
        "# Load TFLite model with interpreter\n",
        "interpreter = tf.lite.Interpreter(model_path=tflite_file)\n",
        "interpreter.allocate_tensors()\n",
        "\n",
        "# Get input and output details\n",
        "input_details = interpreter.get_input_details()\n",
        "output_details = interpreter.get_output_details()\n",
        "\n",
        "\n",
        "# Convert one-hot encoded y_test back to labels\n",
        "y_test_labels = np.argmax(y_test, axis=1)\n",
        "\n",
        "# Evaluate on all test samples (10,000)\n",
        "correct_predictions = 0\n",
        "num_samples = len(X_test)\n",
        "\n",
        "for i in range(num_samples):\n",
        "    # Reshape: (28,28,1) → (28,28)\n",
        "    img = X_test[i].reshape(28, 28).astype('float32')\n",
        "\n",
        "    # Add batch dimension: (28,28) → (1,28,28)\n",
        "    input_data = np.expand_dims(img, axis=0)\n",
        "\n",
        "    # Set tensor and run inference\n",
        "    interpreter.set_tensor(input_details[0]['index'], input_data)\n",
        "    interpreter.invoke()\n",
        "    output = interpreter.get_tensor(output_details[0]['index'])\n",
        "\n",
        "    # Get predicted label\n",
        "    pred_label = np.argmax(output[0])\n",
        "\n",
        "    if pred_label == y_test_labels[i]:\n",
        "        correct_predictions += 1\n",
        "\n",
        "# Calculate accuracy\n",
        "tflite_accuracy = correct_predictions / num_samples\n",
        "print(f\"TFLite Quantized Model Accuracy on {num_samples} samples: {tflite_accuracy * 100:.2f}%\")\n"
      ]
    },
    {
      "cell_type": "code",
      "execution_count": null,
      "id": "61b41734-9177-4613-8bea-1a6b60fde09f",
      "metadata": {
        "id": "61b41734-9177-4613-8bea-1a6b60fde09f",
        "outputId": "d829b467-ae20-4250-f967-6e84f6fa2fad"
      },
      "outputs": [
        {
          "name": "stdout",
          "output_type": "stream",
          "text": [
            "TFLite Input Shape: [ 1 28 28]\n"
          ]
        }
      ],
      "source": [
        "print(\"TFLite Input Shape:\", input_details[0]['shape'])\n"
      ]
    },
    {
      "cell_type": "markdown",
      "id": "d7136840",
      "metadata": {
        "id": "d7136840"
      },
      "source": [
        "### <span style='color: red;'>Discussion and Results:</span> ###\n"
      ]
    },
    {
      "cell_type": "markdown",
      "id": "c3cf95f7",
      "metadata": {
        "id": "c3cf95f7"
      },
      "source": [
        "\n",
        "---\n",
        "\n",
        "After completing the pruning and quantization of my CNN model trained on the Fashion MNIST dataset, I was quite impressed by the impact these optimization techniques had on model size and performance. Starting with the **original model**, I first measured its size after compressing it with gzip, which turned out to be approximately **1,701,044 bytes**. This served as my baseline for comparison.\n",
        "\n",
        "When I applied **pruning** to the model—gradually increasing sparsity from 50% to 80%—the model size dropped significantly. The pruned version of the model had a compressed size of just **543,012 bytes**. This represents a substantial **size reduction of around 68%** compared to the original model. I was surprised to see that despite this drastic reduction in storage space, the **accuracy actually improved slightly**. The original CNN had a test accuracy of **90.05%**, while the pruned model achieved **90.78%** accuracy. This suggests that pruning not only made the model smaller but may have also reduced overfitting, leading to better generalization.\n",
        "\n",
        "Building on this, I then applied **dynamic range quantization** using TensorFlow Lite to the pruned model. The quantized model was even smaller—compressing down to only **141,728 bytes**. Comparing this to the already reduced pruned model, I observed an additional 74% reduction in size. From the baseline model to the fully optimized pruned and quantized model, the total size reduction was approximately 91.67%, which is a remarkable compression.\n",
        "\n",
        "In terms of **accuracy**, I evaluated the quantized model using the TFLite interpreter on the same test dataset. The quantized model achieved **90.78% accuracy**, which is consistent with the pruned model and slightly better than the original. This result reassured me that the optimizations did not compromise the model's predictive performance.\n",
        "\n",
        "To summarize, the model sizes and improvements were as follows:\n",
        "- **Original model size**: 1,701,044 bytes  \n",
        "- **Pruned model size**: 543,012 bytes  \n",
        "- **Quantized model size**: 141,728 bytes  \n",
        "- **Size improvement (original → pruned)**: ~68% reduction  \n",
        "- **Size improvement (pruned → quantized)**: ~74% reduction  \n",
        "- **Total size improvement (original → pruned + quantized)**: ~91.67% reduction\n",
        "\n",
        "And the accuracy comparisons:\n",
        "- **Original model accuracy**: 90.05%  \n",
        "- **Pruned model accuracy**: 90.78%  \n",
        "- **Pruned + Quantized model accuracy**: 90.78%\n",
        "\n",
        "Overall, I found that pruning and quantization are highly effective techniques to significantly reduce model size while maintaining, or even slightly improving, model accuracy. These optimizations make the model more suitable for deployment on resource-constrained devices without sacrificing performance."
      ]
    },
    {
      "cell_type": "markdown",
      "id": "47e81d3a",
      "metadata": {
        "id": "47e81d3a"
      },
      "source": [
        "### <span style='color: red;'>Other pruning strategies we could try for the original model</span> ###\n"
      ]
    },
    {
      "cell_type": "code",
      "execution_count": null,
      "id": "570c934b",
      "metadata": {
        "id": "570c934b",
        "outputId": "38f6b06d-3c4f-40cb-feb6-2945e29aee23"
      },
      "outputs": [
        {
          "name": "stderr",
          "output_type": "stream",
          "text": [
            "WARNING:absl:At this time, the v2.11+ optimizer `tf.keras.optimizers.Adam` runs slowly on M1/M2 Macs, please use the legacy TF-Keras optimizer instead, located at `tf.keras.optimizers.legacy.Adam`.\n"
          ]
        }
      ],
      "source": [
        "# Define pruning schedule for global pruning\n",
        "pruning_params_global = {\n",
        "    'pruning_schedule': tfmot.sparsity.keras.PolynomialDecay(\n",
        "        initial_sparsity=0.30,\n",
        "        final_sparsity=0.85,\n",
        "        begin_step=0,\n",
        "        end_step=end_step\n",
        "    )\n",
        "}\n",
        "\n",
        "# Function to selectively apply pruning to Conv2D and Dense layers globally\n",
        "def apply_global_pruning(model, pruning_params):\n",
        "    pruned_model = tf.keras.models.clone_model(\n",
        "        model,\n",
        "        clone_function=lambda layer: tfmot.sparsity.keras.prune_low_magnitude(layer, **pruning_params)\n",
        "        if isinstance(layer, tf.keras.layers.Conv2D) or isinstance(layer, tf.keras.layers.Dense)\n",
        "        else layer\n",
        "    )\n",
        "    return pruned_model\n",
        "\n",
        "# Apply pruning\n",
        "global_pruned_model = apply_global_pruning(model, pruning_params_global)\n",
        "\n",
        "# Compile\n",
        "global_pruned_model.compile(optimizer=tf.keras.optimizers.Adam(),\n",
        "                            loss=tf.keras.losses.categorical_crossentropy,\n",
        "                            metrics=['accuracy'])\n"
      ]
    },
    {
      "cell_type": "code",
      "execution_count": null,
      "id": "dd8d7210-cacc-414a-a286-f816f55b1bfd",
      "metadata": {
        "id": "dd8d7210-cacc-414a-a286-f816f55b1bfd",
        "outputId": "c72da119-6162-4c91-ddd3-664d76ce3125"
      },
      "outputs": [
        {
          "name": "stdout",
          "output_type": "stream",
          "text": [
            "Epoch 1/5\n",
            "1563/1563 [==============================] - 17s 10ms/step - loss: 0.0694 - accuracy: 0.9740 - val_loss: 0.3507 - val_accuracy: 0.9191\n",
            "Epoch 2/5\n",
            "1563/1563 [==============================] - 17s 11ms/step - loss: 0.0366 - accuracy: 0.9866 - val_loss: 0.3952 - val_accuracy: 0.9182\n",
            "Epoch 3/5\n",
            "1563/1563 [==============================] - 17s 11ms/step - loss: 0.0312 - accuracy: 0.9886 - val_loss: 0.4114 - val_accuracy: 0.9092\n",
            "Epoch 4/5\n",
            "1563/1563 [==============================] - 16s 10ms/step - loss: 0.0659 - accuracy: 0.9758 - val_loss: 0.3362 - val_accuracy: 0.9119\n",
            "Epoch 5/5\n",
            "1563/1563 [==============================] - 16s 10ms/step - loss: 0.0516 - accuracy: 0.9805 - val_loss: 0.3477 - val_accuracy: 0.9118\n",
            "Global Pruned CNN - Test loss: 0.3746672570705414 / Test accuracy: 0.9097999930381775\n"
          ]
        }
      ],
      "source": [
        "# Train with pruning callback\n",
        "callbacks_global = [tfmot.sparsity.keras.UpdatePruningStep()]\n",
        "\n",
        "# Train\n",
        "history_global = global_pruned_model.fit(X_train, y_train,\n",
        "                                         batch_size=batch_size,\n",
        "                                         epochs=pruning_epochs,\n",
        "                                         verbose=1,\n",
        "                                         validation_data=(X_valid, y_valid),\n",
        "                                         callbacks=callbacks_global)\n",
        "\n",
        "# Evaluate accuracy\n",
        "score_global = global_pruned_model.evaluate(X_test, y_test, verbose=0)\n",
        "print(f'Global Pruned CNN - Test loss: {score_global[0]} / Test accuracy: {score_global[1]}')\n"
      ]
    },
    {
      "cell_type": "markdown",
      "id": "1c03eae0-4cc5-41da-bac9-babb0e4959e6",
      "metadata": {
        "id": "1c03eae0-4cc5-41da-bac9-babb0e4959e6"
      },
      "source": [
        "---\n",
        "\n",
        "After successfully applying pruning to my CNN model, I wanted to explore additional pruning strategies that could potentially offer better size reduction or performance improvements. One approach I tried was **global pruning**, where weights are pruned across the entire model based on their magnitude, instead of pruning a fixed percentage from each layer. This method allowed the model to retain the most significant weights globally, and it paid off — the globally pruned model achieved a **test accuracy of 90.98%**, which was the highest among all my models, along with a slightly lower test loss of **0.3747**. It’s fascinating to see how flexible and effective global pruning can be when fine-tuned properly.\n",
        "\n",
        "Beyond global pruning, there are a couple of other strategies I could consider. For instance, structured pruning focuses on removing entire filters or channels rather than individual weights. This would likely result in faster inference times, especially on hardware like GPUs or mobile devices, although it requires careful tuning to avoid accuracy loss. Another interesting approach is gradual pruning, where I’d start with a low sparsity (like 10%) and slowly increase it over more epochs, which could help maintain stability and accuracy during training. Each of these strategies offers different trade-offs between model size, speed, and performance, and exploring them further could help me tailor the model for specific deployment needs, whether it's on an edge device or in a cloud environment.\n"
      ]
    }
  ],
  "metadata": {
    "kernelspec": {
      "display_name": "Python (cpu_env)",
      "language": "python",
      "name": "cpu_env"
    },
    "language_info": {
      "codemirror_mode": {
        "name": "ipython",
        "version": 3
      },
      "file_extension": ".py",
      "mimetype": "text/x-python",
      "name": "python",
      "nbconvert_exporter": "python",
      "pygments_lexer": "ipython3",
      "version": "3.12.7"
    },
    "colab": {
      "provenance": []
    }
  },
  "nbformat": 4,
  "nbformat_minor": 5
}